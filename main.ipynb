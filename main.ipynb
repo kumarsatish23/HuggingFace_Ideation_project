{
 "cells": [
  {
   "metadata": {
    "ExecuteTime": {
     "end_time": "2024-09-30T17:18:27.719531Z",
     "start_time": "2024-09-30T17:17:43.528753Z"
    }
   },
   "cell_type": "code",
   "source": [
    "import os\n",
    "import torch\n",
    "from transformers import GPT2Tokenizer, GPT2LMHeadModel\n",
    "\n",
    "# Check for MPS device (Metal Performance Shaders)\n",
    "device = torch.device(\"mps\" if torch.backends.mps.is_available() else \"cpu\")\n",
    "\n",
    "# Set project directory where the model is saved\n",
    "project_dir = \"./math_model_project\"\n",
    "\n",
    "# Load the fine-tuned model and tokenizer\n",
    "model = GPT2LMHeadModel.from_pretrained(os.path.join(project_dir, \"gpt2-lora-finetuned\")).to(device)\n",
    "tokenizer = GPT2Tokenizer.from_pretrained(os.path.join(project_dir, \"gpt2-lora-finetuned\", \"tokenizer\"))\n",
    "\n",
    "# Text generation function\n",
    "def generate_text(prompt, max_length=100, num_return_sequences=1):\n",
    "    input_ids = tokenizer.encode(prompt, return_tensors='pt').to(device)\n",
    "    with torch.no_grad():\n",
    "        output = model.generate(\n",
    "            input_ids,\n",
    "            max_length=max_length,\n",
    "            num_return_sequences=num_return_sequences,\n",
    "            do_sample=True,\n",
    "            num_beams=10,  # Increased number of beams for better exploration\n",
    "            early_stopping=True,\n",
    "            pad_token_id=tokenizer.eos_token_id,\n",
    "            temperature=0.6,  # Lower temperature for more deterministic outputs\n",
    "            top_k=50,\n",
    "            top_p=0.9,\n",
    "            repetition_penalty=2.0\n",
    "        )\n",
    "    return [tokenizer.decode(output[i], skip_special_tokens=True) for i in range(num_return_sequences)]\n",
    "\n",
    "\n",
    "# Sample prompts for testing\n",
    "sample_prompts = [\n",
    "    \"Expand the expression (a+b)^2 and show each step clearly, using proper mathematical notation.\"\n",
    "]\n",
    "\n",
    "# Generate and print solutions for each sample prompt\n",
    "for i, prompt in enumerate(sample_prompts):\n",
    "    generated_texts = generate_text(prompt, max_length=250, num_return_sequences=1)\n",
    "    print(f\"Sample Prompt {i + 1}:\\n{prompt}\")\n",
    "    for j, text in enumerate(generated_texts):\n",
    "        print(f\"Generated Solution {j + 1}:\\n{text}\\n\")\n",
    "    print(\"-\" * 40)\n"
   ],
   "id": "b37b0be391b1d975",
   "outputs": [
    {
     "name": "stderr",
     "output_type": "stream",
     "text": [
      "/Users/skr/Documents/pythonProject/.venv/lib/python3.9/site-packages/urllib3/__init__.py:35: NotOpenSSLWarning: urllib3 v2 only supports OpenSSL 1.1.1+, currently the 'ssl' module is compiled with 'LibreSSL 2.8.3'. See: https://github.com/urllib3/urllib3/issues/3020\n",
      "  warnings.warn(\n",
      "The attention mask is not set and cannot be inferred from input because pad token is same as eos token. As a consequence, you may observe unexpected behavior. Please pass your input's `attention_mask` to obtain reliable results.\n"
     ]
    },
    {
     "name": "stdout",
     "output_type": "stream",
     "text": [
      "Sample Prompt 1:\n",
      "Expand the expression (a+b)^2 and show each step clearly, using proper mathematical notation.\n",
      "Generated Solution 1:\n",
      "Expand the expression (a+b)^2 and show each step clearly, using proper mathematical notation. b =(b +b +b$b-b -b=b \\frac{b}{b)+b}b +b $b\\b\n",
      "B/b)=b +b^{b +b +b$,b +b +b +b$.b +b +b +b +b +b +b +b +b +b +b +b +b +b +b +b +b +b +b +b +b +b +b +b +b +b +b +b +b +b +b +b +b +b +b +b +b +b +b +b +b +b +b +b +b +b +b +b +b +b +b +b +b +b +b +b +b +b +b +b +b +b +b +b +b +b +b +b +b +b +b +b +b +b +b +b +b +b +b +b +b +b +b +b +b +b +b\n",
      "\n",
      "----------------------------------------\n"
     ]
    }
   ],
   "execution_count": 1
  },
  {
   "metadata": {},
   "cell_type": "code",
   "outputs": [],
   "execution_count": null,
   "source": "",
   "id": "7970c8e9eec07a0e"
  }
 ],
 "metadata": {
  "kernelspec": {
   "display_name": "Python 3",
   "language": "python",
   "name": "python3"
  },
  "language_info": {
   "codemirror_mode": {
    "name": "ipython",
    "version": 2
   },
   "file_extension": ".py",
   "mimetype": "text/x-python",
   "name": "python",
   "nbconvert_exporter": "python",
   "pygments_lexer": "ipython2",
   "version": "2.7.6"
  }
 },
 "nbformat": 4,
 "nbformat_minor": 5
}
